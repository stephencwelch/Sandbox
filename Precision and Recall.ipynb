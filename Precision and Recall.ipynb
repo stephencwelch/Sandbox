{
 "metadata": {
  "name": "",
  "signature": "sha256:833e2557b5a27f42b33fdb03eedef56590070e3941ec7c5d45b068424e4cf28e"
 },
 "nbformat": 3,
 "nbformat_minor": 0,
 "worksheets": [
  {
   "cells": [
    {
     "cell_type": "markdown",
     "metadata": {},
     "source": [
      "#Precision and Recall \n",
      "\n",
      "Stephen Welch\n",
      "2/3/15"
     ]
    },
    {
     "cell_type": "markdown",
     "metadata": {},
     "source": [
      "Let's say we have 5918 observations, 1398 of them are abnormal, and 4515 are normal. If we just choose randomly, what will our precision and recall rates be?"
     ]
    },
    {
     "cell_type": "markdown",
     "metadata": {},
     "source": [
      "Let's assume these event are indpendent, so:\n",
      "\n",
      "$$\n",
      "P(chosen + abnormal) = P(chosen)*P(abnormal)\n",
      "$$"
     ]
    },
    {
     "cell_type": "markdown",
     "metadata": {},
     "source": [
      "It's up to us to pick what portion we want to pick as abnormal, we could pick between 0 and 100 percent of the observations\n",
      "\n",
      "###Definitions\n",
      "Our recall and precision formulas:\n",
      "\n",
      "$$\n",
      "Recall = \\frac{TP}{TP+FN}\n",
      "Precision = \\frac{TP}{TP+FP}\n",
      "$$\n",
      "\n",
      "Where TP = True positive, TN = True Negative, and FP = False Positive."
     ]
    },
    {
     "cell_type": "markdown",
     "metadata": {},
     "source": [
      "###Intuition \n",
      "\n",
      "- Recall is the propotrion of abnormal events detected\n",
      "- Precision is the proportion of abnormal events identified that are actually abnormal"
     ]
    },
    {
     "cell_type": "markdown",
     "metadata": {},
     "source": [
      "###Math\n",
      "\n",
      "Our recall will just be equal to the portion of all events we choose to be abnormal. If we choose 50%, then we will sample, on average, 50% of the abnormal events.\n",
      "\n",
      "Precision is a little more complicated, let $p$ be the proportion of events we randomly label as abnormal.\n",
      "\n",
      "$$\n",
      "Precision =  \\frac{TP}{TP+FP} = \\frac{1398*p}{1398*p + 4515*p} = \\frac{1398}{1398 + 4515} = .236\n",
      "$$\n"
     ]
    },
    {
     "cell_type": "markdown",
     "metadata": {},
     "source": [
      "##So our precision will always be 23.6%, regardless of our recall.\n",
      "\n",
      "So our \"curve\", looks like this:"
     ]
    },
    {
     "cell_type": "code",
     "collapsed": false,
     "input": [
      "p = arange(0,1,0.01)\n",
      "\n",
      "recall = p\n",
      "precision = .236*ones(len(p))\n",
      "\n",
      "plot(recall, precision)\n",
      "grid(1)\n",
      "xlabel('recall')\n",
      "ylabel('precision')"
     ],
     "language": "python",
     "metadata": {},
     "outputs": [
      {
       "metadata": {},
       "output_type": "pyout",
       "prompt_number": 14,
       "text": [
        "<matplotlib.text.Text at 0x10f16d610>"
       ]
      },
      {
       "metadata": {},
       "output_type": "display_data",
       "png": "[encoded data removed]",
       "text": [
        "<matplotlib.figure.Figure at 0x10f175290>"
       ]
      }
     ],
     "prompt_number": 14
    },
    {
     "cell_type": "markdown",
     "metadata": {},
     "source": [
      "This is making more sense to me intuitively know..."
     ]
    }
   ],
   "metadata": {}
  }
 ]
}